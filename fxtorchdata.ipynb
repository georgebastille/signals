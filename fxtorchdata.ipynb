{
 "cells": [
  {
   "cell_type": "code",
   "execution_count": 57,
   "metadata": {},
   "outputs": [],
   "source": [
    "from torch.utils.data import Dataset, DataLoader\n",
    "import torch\n",
    "from fxdata import load_ticker"
   ]
  },
  {
   "cell_type": "code",
   "execution_count": 91,
   "metadata": {},
   "outputs": [],
   "source": [
    "class ForexDataset(Dataset):\n",
    "    \"\"\"FX Timeseries data loader\n",
    "    \n",
    "    Uses the next Close as the target. Rescales all values by the last Close\n",
    "    in the features and subtracts 1.\"\"\"\n",
    "    \n",
    "    def __init__(self, ticker, granularity, look_back=1, tensor=False):\n",
    "        self.feature_df = load_ticker(ticker, sample_mins=granularity)\n",
    "        self.target_df = self.feature_df[\"Close\"].shift(periods=-1)/self.feature_df[\"Close\"] - 1\n",
    "        \n",
    "        self.tensor = tensor\n",
    "        self.look_back = look_back\n",
    "        \n",
    "    def __len__(self):\n",
    "        return len(self.feature_df.index) - self.look_back - 1\n",
    "    \n",
    "    def __getitem__(self, idx):\n",
    "        features = self.feature_df.iloc[idx:idx+self.look_back]\n",
    "        #print(features, self.feature_df[\"Close\"].iloc[idx+self.look_back-1])\n",
    "        features /= self.feature_df[\"Close\"].iloc[idx+self.look_back-1]\n",
    "        features = (features - 1).to_numpy()\n",
    "        targets = self.target_df.iloc[idx+self.look_back]\n",
    "        if self.tensor:\n",
    "            features = torch.from_numpy(features)\n",
    "            targets = torch.tensor(targets)\n",
    "        \n",
    "        return {\"features\": features,\n",
    "                \"target\": targets}"
   ]
  },
  {
   "cell_type": "code",
   "execution_count": 95,
   "metadata": {},
   "outputs": [
    {
     "data": {
      "text/plain": [
       "{'features': tensor([[-0.0006, -0.0004, -0.0007, -0.0006],\n",
       "         [-0.0006, -0.0006, -0.0012, -0.0011],\n",
       "         [-0.0010, -0.0006, -0.0010, -0.0009],\n",
       "         [-0.0009, -0.0008, -0.0012, -0.0011],\n",
       "         [-0.0011, -0.0009, -0.0012, -0.0010],\n",
       "         [-0.0010, -0.0009, -0.0011, -0.0010],\n",
       "         [-0.0010, -0.0006, -0.0010, -0.0007],\n",
       "         [-0.0008, -0.0003, -0.0009, -0.0003],\n",
       "         [-0.0003,  0.0004, -0.0005,  0.0002],\n",
       "         [ 0.0003,  0.0004, -0.0005,  0.0000]], dtype=torch.float64),\n",
       " 'target': tensor(0.0008, dtype=torch.float64)}"
      ]
     },
     "execution_count": 95,
     "metadata": {},
     "output_type": "execute_result"
    }
   ],
   "source": [
    "fx = ForexDataset(\"EURUSD\", 60, look_back=10, tensor=True)\n",
    "fx[0]"
   ]
  },
  {
   "cell_type": "code",
   "execution_count": 96,
   "metadata": {},
   "outputs": [
    {
     "name": "stdout",
     "output_type": "stream",
     "text": [
      "0 {'features': tensor([[[-6.2961e-04, -4.4972e-04, -7.1955e-04, -6.2961e-04],\n",
      "         [-6.2961e-04, -6.2961e-04, -1.1693e-03, -1.0793e-03],\n",
      "         [-9.8939e-04, -6.2961e-04, -9.8939e-04, -8.9944e-04],\n",
      "         [-8.9944e-04, -8.0950e-04, -1.1693e-03, -1.0793e-03],\n",
      "         [-1.0793e-03, -8.9944e-04, -1.1693e-03, -9.8939e-04],\n",
      "         [-9.8939e-04, -8.9944e-04, -1.0793e-03, -9.8939e-04],\n",
      "         [-9.8939e-04, -6.2961e-04, -9.8939e-04, -7.1955e-04],\n",
      "         [-8.0950e-04, -2.6983e-04, -8.9944e-04, -2.6983e-04],\n",
      "         [-2.6983e-04,  3.5978e-04, -5.3967e-04,  1.7989e-04],\n",
      "         [ 2.6983e-04,  3.5978e-04, -5.3967e-04,  0.0000e+00]],\n",
      "\n",
      "        [[-8.9993e-05, -8.9993e-05, -6.2995e-04, -5.3996e-04],\n",
      "         [-4.4996e-04, -8.9993e-05, -4.4996e-04, -3.5997e-04],\n",
      "         [-3.5997e-04, -2.6998e-04, -6.2995e-04, -5.3996e-04],\n",
      "         [-5.3996e-04, -3.5997e-04, -6.2995e-04, -4.4996e-04],\n",
      "         [-4.4996e-04, -3.5997e-04, -5.3996e-04, -4.4996e-04],\n",
      "         [-4.4996e-04, -8.9993e-05, -4.4996e-04, -1.7999e-04],\n",
      "         [-2.6998e-04,  2.6998e-04, -3.5997e-04,  2.6998e-04],\n",
      "         [ 2.6998e-04,  8.9993e-04,  0.0000e+00,  7.1994e-04],\n",
      "         [ 8.0994e-04,  8.9993e-04,  0.0000e+00,  5.3996e-04],\n",
      "         [ 5.3996e-04,  6.2995e-04, -8.9993e-05,  0.0000e+00]],\n",
      "\n",
      "        [[-1.2589e-03, -8.9920e-04, -1.2589e-03, -1.1690e-03],\n",
      "         [-1.1690e-03, -1.0790e-03, -1.4387e-03, -1.3488e-03],\n",
      "         [-1.3488e-03, -1.1690e-03, -1.4387e-03, -1.2589e-03],\n",
      "         [-1.2589e-03, -1.1690e-03, -1.3488e-03, -1.2589e-03],\n",
      "         [-1.2589e-03, -8.9920e-04, -1.2589e-03, -9.8912e-04],\n",
      "         [-1.0790e-03, -5.3952e-04, -1.1690e-03, -5.3952e-04],\n",
      "         [-5.3952e-04,  8.9920e-05, -8.0928e-04, -8.9920e-05],\n",
      "         [ 0.0000e+00,  8.9920e-05, -8.0928e-04, -2.6976e-04],\n",
      "         [-2.6976e-04, -1.7984e-04, -8.9920e-04, -8.0928e-04],\n",
      "         [-8.0928e-04,  3.5968e-04, -9.8912e-04,  0.0000e+00]],\n",
      "\n",
      "        [[-3.5997e-04, -2.6998e-04, -6.2995e-04, -5.3996e-04],\n",
      "         [-5.3996e-04, -3.5997e-04, -6.2995e-04, -4.4996e-04],\n",
      "         [-4.4996e-04, -3.5997e-04, -5.3996e-04, -4.4996e-04],\n",
      "         [-4.4996e-04, -8.9993e-05, -4.4996e-04, -1.7999e-04],\n",
      "         [-2.6998e-04,  2.6998e-04, -3.5997e-04,  2.6998e-04],\n",
      "         [ 2.6998e-04,  8.9993e-04,  0.0000e+00,  7.1994e-04],\n",
      "         [ 8.0994e-04,  8.9993e-04,  0.0000e+00,  5.3996e-04],\n",
      "         [ 5.3996e-04,  6.2995e-04, -8.9993e-05,  0.0000e+00],\n",
      "         [ 0.0000e+00,  1.1699e-03, -1.7999e-04,  8.0994e-04],\n",
      "         [ 8.0994e-04,  8.9993e-04, -5.3996e-04,  0.0000e+00]]],\n",
      "       dtype=torch.float64), 'target': tensor([ 8.0994e-04, -8.0928e-04, -8.9993e-05, -6.3001e-04],\n",
      "       dtype=torch.float64)}\n"
     ]
    }
   ],
   "source": [
    "fxd = DataLoader(fx, batch_size=4, shuffle=False, num_workers=0)\n",
    "for x, y in enumerate(fxd):\n",
    "    print(x, y)\n",
    "    break"
   ]
  },
  {
   "cell_type": "code",
   "execution_count": null,
   "metadata": {},
   "outputs": [],
   "source": []
  }
 ],
 "metadata": {
  "kernelspec": {
   "display_name": "Python 3",
   "language": "python",
   "name": "python3"
  },
  "language_info": {
   "codemirror_mode": {
    "name": "ipython",
    "version": 3
   },
   "file_extension": ".py",
   "mimetype": "text/x-python",
   "name": "python",
   "nbconvert_exporter": "python",
   "pygments_lexer": "ipython3",
   "version": "3.8.5"
  }
 },
 "nbformat": 4,
 "nbformat_minor": 4
}
